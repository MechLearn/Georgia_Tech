{
 "cells": [
  {
   "cell_type": "markdown",
   "id": "fa08d64c",
   "metadata": {},
   "source": [
    "## Asesinatos\n",
    "\n"
   ]
  },
  {
   "cell_type": "markdown",
   "id": "d2e6e64b",
   "metadata": {},
   "source": []
  }
 ],
 "metadata": {
  "language_info": {
   "name": "python"
  }
 },
 "nbformat": 4,
 "nbformat_minor": 5
}
