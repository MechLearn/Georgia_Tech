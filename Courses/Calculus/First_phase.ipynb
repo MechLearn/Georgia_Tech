{
 "cells": [
  {
   "metadata": {},
   "cell_type": "code",
   "outputs": [],
   "execution_count": null,
   "source": "",
   "id": "7fc58c17e1e07402"
  },
  {
   "metadata": {},
   "cell_type": "markdown",
   "source": [
    "# Apuntes de calculo\n",
    "\n",
    "En este cuaderno se registrara"
   ],
   "id": "eac6f87b6e2ae633"
  },
  {
   "metadata": {},
   "cell_type": "code",
   "outputs": [],
   "execution_count": null,
   "source": "",
   "id": "18f0198f0ebbc7ee"
  }
 ],
 "metadata": {
  "kernelspec": {
   "display_name": "Python 3",
   "language": "python",
   "name": "python3"
  },
  "language_info": {
   "codemirror_mode": {
    "name": "ipython",
    "version": 2
   },
   "file_extension": ".py",
   "mimetype": "text/x-python",
   "name": "python",
   "nbconvert_exporter": "python",
   "pygments_lexer": "ipython2",
   "version": "2.7.6"
  }
 },
 "nbformat": 4,
 "nbformat_minor": 5
}
