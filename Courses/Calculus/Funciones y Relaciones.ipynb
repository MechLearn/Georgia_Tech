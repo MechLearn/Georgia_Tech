{
 "cells": [
  {
   "cell_type": "markdown",
   "id": "265e6315",
   "metadata": {},
   "source": [
    "# Funciones y Relaciones"
   ]
  },
  {
   "cell_type": "markdown",
   "id": "0171d88f",
   "metadata": {},
   "source": []
  }
 ],
 "metadata": {
  "kernelspec": {
   "display_name": "Python 3 (ipykernel)",
   "language": "python",
   "name": "python3"
  }
 },
 "nbformat": 4,
 "nbformat_minor": 5
}
